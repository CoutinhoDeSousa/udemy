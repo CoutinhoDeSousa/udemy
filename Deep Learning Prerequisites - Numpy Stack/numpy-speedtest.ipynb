{
 "cells": [
  {
   "cell_type": "markdown",
   "id": "b048732d-ac68-480b-8f31-436f0049ecdf",
   "metadata": {},
   "source": [
    "## Speedtest"
   ]
  },
  {
   "cell_type": "code",
   "execution_count": 1,
   "id": "2ffe7f28-76ed-438d-889f-2373aae0cfa8",
   "metadata": {},
   "outputs": [],
   "source": [
    "import numpy as np\n",
    "from datetime import datetime"
   ]
  },
  {
   "cell_type": "code",
   "execution_count": 3,
   "id": "d97e7f15-6305-4b7d-9595-7b8cb8dee530",
   "metadata": {},
   "outputs": [],
   "source": [
    "a = np.random.randn(100)\n",
    "b = np.random.randn(100)\n",
    "T = 100000 \n",
    "\n",
    "def slow_dot_product(a,b):\n",
    "    res = 0\n",
    "    for e,f in zip(a,b):\n",
    "        res += e*f\n",
    "    return res\n",
    "\n",
    "\n"
   ]
  },
  {
   "cell_type": "code",
   "execution_count": 6,
   "id": "a6f97bce-213d-4a1f-b66e-d8204a55a773",
   "metadata": {},
   "outputs": [
    {
     "name": "stdout",
     "output_type": "stream",
     "text": [
      "slow / np 29.997923482281035\n"
     ]
    }
   ],
   "source": [
    "t_start_slow = datetime.now()\n",
    "\n",
    "for i in range(T):\n",
    "    slow_dot_product(a,b)\n",
    "    \n",
    "t_end_slow = datetime.now()\n",
    "t_start_np = datetime.now()\n",
    "for i in range(T):\n",
    "    a.dot(b)\n",
    "    \n",
    "t_end_np = datetime.now()\n",
    "\n",
    "\n",
    "delta_slow = t_start_slow - t_end_slow\n",
    "delta_np = t_start_np - t_end_np\n",
    "\n",
    "\n",
    "print(\"slow / np\" , delta_slow.total_seconds()/delta_np.total_seconds())"
   ]
  },
  {
   "cell_type": "code",
   "execution_count": null,
   "id": "13582257-a807-4d00-8585-3fbc4773be47",
   "metadata": {},
   "outputs": [],
   "source": []
  },
  {
   "cell_type": "code",
   "execution_count": null,
   "id": "24508db5-b21c-434d-aac3-13443307d4a9",
   "metadata": {},
   "outputs": [],
   "source": []
  }
 ],
 "metadata": {
  "kernelspec": {
   "display_name": "Python 3 (ipykernel)",
   "language": "python",
   "name": "python3"
  },
  "language_info": {
   "codemirror_mode": {
    "name": "ipython",
    "version": 3
   },
   "file_extension": ".py",
   "mimetype": "text/x-python",
   "name": "python",
   "nbconvert_exporter": "python",
   "pygments_lexer": "ipython3",
   "version": "3.12.1"
  }
 },
 "nbformat": 4,
 "nbformat_minor": 5
}
